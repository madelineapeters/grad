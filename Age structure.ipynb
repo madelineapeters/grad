{
 "cells": [
  {
   "cell_type": "markdown",
   "metadata": {},
   "source": [
    "### Given a number of uninfected donor cells and their proportion of the total number of uninfected cells, what does their age structure need to be so that the number of infected donor cells at 24 hours is 2.7% of the original concentration of infected donor cells?"
   ]
  },
  {
   "cell_type": "code",
   "execution_count": 21,
   "metadata": {
    "collapsed": true
   },
   "outputs": [],
   "source": [
    "#concentrations\n",
    "don.con<-0.031\n",
    "host.con<-1-don.con\n",
    "\n",
    "#cell numbers\n",
    "host.den<-6000000 #total host numbers\n",
    "don.den<-6000000*(don.con/host.con) #total donor numbers\n",
    "don.inf<-don.den*0.042 #total donor infected\n",
    "total.uninf<-6000000+don.den-don.inf #total uninfected\n",
    "total.inf<-total.uninf*0.006 #total infected after 24 hours"
   ]
  },
  {
   "cell_type": "code",
   "execution_count": 5,
   "metadata": {
    "collapsed": true
   },
   "outputs": [],
   "source": [
    "prob.don.inf<-(don.inf*0.027)/don.den #where x is the probability of a donor cell becoming infected once in the host"
   ]
  },
  {
   "cell_type": "code",
   "execution_count": 19,
   "metadata": {
    "collapsed": true
   },
   "outputs": [],
   "source": [
    "prob.don.inf<-0.001134\n",
    "don.inf2<-(total.inf)*(0.031*(1+0.001*(150-1)))/(0.969*(1+0.01*(150-1)))"
   ]
  },
  {
   "cell_type": "code",
   "execution_count": 15,
   "metadata": {},
   "outputs": [
    {
     "data": {
      "text/html": [
       "183888.544891641"
      ],
      "text/latex": [
       "183888.544891641"
      ],
      "text/markdown": [
       "183888.544891641"
      ],
      "text/plain": [
       "[1] 183888.5"
      ]
     },
     "execution_count": 15,
     "metadata": {},
     "output_type": "execute_result"
    }
   ],
   "source": [
    "don.den-don.inf"
   ]
  },
  {
   "cell_type": "code",
   "execution_count": 20,
   "metadata": {},
   "outputs": [
    {
     "data": {
      "text/html": [
       "0.0028535292924018"
      ],
      "text/latex": [
       "0.0028535292924018"
      ],
      "text/markdown": [
       "0.0028535292924018"
      ],
      "text/plain": [
       "[1] 0.002853529"
      ]
     },
     "execution_count": 20,
     "metadata": {},
     "output_type": "execute_result"
    }
   ],
   "source": [
    "don.inf2/don.den"
   ]
  },
  {
   "cell_type": "code",
   "execution_count": 23,
   "metadata": {},
   "outputs": [
    {
     "data": {
      "text/html": [
       "6183888.54489164"
      ],
      "text/latex": [
       "6183888.54489164"
      ],
      "text/markdown": [
       "6183888.54489164"
      ],
      "text/plain": [
       "[1] 6183889"
      ]
     },
     "execution_count": 23,
     "metadata": {},
     "output_type": "execute_result"
    }
   ],
   "source": [
    "total.uninf"
   ]
  },
  {
   "cell_type": "code",
   "execution_count": null,
   "metadata": {
    "collapsed": true
   },
   "outputs": [],
   "source": []
  }
 ],
 "metadata": {
  "kernelspec": {
   "display_name": "R",
   "language": "R",
   "name": "ir"
  },
  "language_info": {
   "codemirror_mode": "r",
   "file_extension": ".r",
   "mimetype": "text/x-r-source",
   "name": "R",
   "pygments_lexer": "r",
   "version": "3.4.1"
  }
 },
 "nbformat": 4,
 "nbformat_minor": 2
}
