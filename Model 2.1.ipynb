{
 "cells": [
  {
   "cell_type": "markdown",
   "metadata": {},
   "source": [
    "### Parameters\n",
    "#### RBC parameters"
   ]
  },
  {
   "cell_type": "code",
   "execution_count": null,
   "metadata": {
    "collapsed": true
   },
   "outputs": [],
   "source": [
    "B.R<-0.5 #susceptibility factor for recipient RBCs\n",
    "B.D<-0.5 #susceptibility factor for donor RBCs\n",
    "\n",
    "R.0<-8000000 #starting concentration of RBCs\n",
    "\n",
    "T.R.0<-0.97 #total proportion of RBCs in circulation that are recipient\n",
    "T.D.0<-0.03 #total proportion that are donor\n",
    "\n",
    "a<-0 #adjustment parameter for erythropoesis in response to anaemia\n",
    "response<-\"none\"\n",
    "R.norm<-8000000"
   ]
  },
  {
   "cell_type": "markdown",
   "metadata": {},
   "source": [
    "#### Parasite parameters"
   ]
  },
  {
   "cell_type": "code",
   "execution_count": null,
   "metadata": {
    "collapsed": true
   },
   "outputs": [],
   "source": [
    "E.pref<-0.01 #preference for erythrocytes\n",
    "R.pref<-1.5 #preferences for reticulocytes\n",
    "\n",
    "mat.D<-24 #average number of hours for parasite to mature in donor RBC\n",
    "mat.R<-24 #average number of hours for parasite to mature in recipient RBC\n",
    "\n",
    "P.D<-8 #parasites produced from a burst donor RBC\n",
    "P.R<-8 #parasites produced from a burst recipient RBC"
   ]
  },
  {
   "cell_type": "markdown",
   "metadata": {},
   "source": [
    "#### Create dataframes holding RBC numbers"
   ]
  },
  {
   "cell_type": "code",
   "execution_count": null,
   "metadata": {
    "collapsed": true
   },
   "outputs": [],
   "source": [
    "#Dataframe holding proportion of uninfected recipient RBCs of age x hours (row number)\n",
    "RU.df<-as.data.frame(matrix(nrow=4, ncol=1))\n",
    "#Dataframe holding proportion of infected donor RBCs of age x hours (row number)\n",
    "DI.df<-as.data.frame(matrix(nrow=4, ncol=mat.D))\n",
    "#Dataframe holding proportion of infected donor RBCs of age x hours (row number)\n",
    "DU.df<-as.data.frame(matrix(nrow=4, ncol=1))\n",
    "#Dataframe holding proportion of infected donor RBCs of age x hours (row number)\n",
    "RI.df<-as.data.frame(matrix(nrow=4, ncol=mat.R))"
   ]
  },
  {
   "cell_type": "markdown",
   "metadata": {},
   "source": [
    "#### Create dataframes holding time-step summary values"
   ]
  },
  {
   "cell_type": "code",
   "execution_count": null,
   "metadata": {
    "collapsed": true
   },
   "outputs": [],
   "source": [
    "RBC.sum<-as.data.frame(matrix(nrow=gen, ncol=4))\n",
    "names(RBC.sum)<-c(\"RU\",\"RI\",\"DI\",\"DU\")\n",
    "\n",
    "P.sum<-as.data.frame(matrix(nrow=gen, ncol=3))\n",
    "names(P.sum)<-c(\"Total\",\"R\",\"D\")\n",
    "\n",
    "RI.age<-as.data.frame(matrix(nrow=gen, ncol=4))\n",
    "DI.age<-as.data.frame(matrix(nrow=gen, ncol=4))\n",
    "RU.age<-as.data.frame(matrix(nrow=gen, ncol=4))\n",
    "DU.age<-as.data.frame(matrix(nrow=gen, ncol=4))"
   ]
  },
  {
   "cell_type": "markdown",
   "metadata": {},
   "source": [
    "### Functions"
   ]
  },
  {
   "cell_type": "markdown",
   "metadata": {},
   "source": [
    "### First infection step (proportions)"
   ]
  },
  {
   "cell_type": "code",
   "execution_count": null,
   "metadata": {
    "collapsed": true
   },
   "outputs": [],
   "source": [
    "infect.step<-function(unite, df1, df2, B.R, B.D, R.pref, E.pref){\n",
    "  \n",
    "  if (unite == \"yes\"){\n",
    "    temp<-as.data.frame(matrix(nrow=8, ncol=5))\n",
    "    names(temp)<-c(\"index\", \"count\", \"pref\", \"B\", \"prob\")\n",
    "    temp[1:8,1]<-1:8\n",
    "    temp[1:4,2]<-df1[1:4,1]\n",
    "    temp[5:8,2]<-df2[1:4,1]\n",
    "    temp[c(1:3,5:7),3]<-R.pref\n",
    "    temp[c(4,8),3]<-E.pref\n",
    "    temp[1:4,4]<-B.R\n",
    "    temp[5:8,4]<-B.D\n",
    "    \n",
    "    RBC.total<-sum(temp[,2])\n",
    "    temp[,2]<-temp[,2]/RBC.total\n",
    "    pref.total<-sum(temp[,3])\n",
    "    temp[,3]<-temp[,3]/pref.total\n",
    "    B.total<-sum(temp[,4])\n",
    "    temp[,4]<-temp[,4]/B.total\n",
    "    temp[,5]<-temp[,2]*temp[,3]*temp[,4]\n",
    "    temp[,5]<-temp[,5]/sum(temp[,5])\n",
    "  } else if (unite == \"no\") {\n",
    "    temp<-as.data.frame(matrix(nrow=8, ncol=5))\n",
    "    names(temp)<-c(\"index\", \"count\", \"pref\", \"B\", \"prob\")\n",
    "    temp[1:8,1]<-1:8\n",
    "    temp[1:4,2]<-df1[1:4,1]\n",
    "    temp[5:8,2]<-df2[1:4,1]\n",
    "    temp[c(1:3,5:7),3]<-R.pref\n",
    "    temp[c(4,8),3]<-E.pref\n",
    "    temp[1:4,4]<-1\n",
    "    temp[5:8,4]<-1\n",
    "    \n",
    "    RBC.total1<-sum(temp[1:4,2])\n",
    "    RBC.total2<-sum(temp[5:8,2])\n",
    "    temp[1:4,2]<-temp[1:4,2]/RBC.total1\n",
    "    temp[5:8,2]<-temp[5:8,2]/RBC.total2\n",
    "    pref.total<-sum(temp[,3])\n",
    "    temp[,3]<-(2*temp[,3])/pref.total\n",
    "    temp[1:4,5]<-temp[1:4,2]*temp[1:4,3]*temp[1:4,4]\n",
    "    temp[5:8,5]<-temp[5:8,2]*temp[5:8,3]*temp[5:8,4]\n",
    "    temp[1:4,5]<-temp[1:4,5]/sum(temp[1:4,5])\n",
    "    temp[5:8,5]<-temp[5:8,5]/sum(temp[5:8,5])\n",
    "  }\n",
    "  prop.inf<-as.data.frame(temp[,c(1,5)])\n",
    "  \n",
    "  return(prop.inf)\n",
    "  \n",
    "}"
   ]
  },
  {
   "cell_type": "markdown",
   "metadata": {},
   "source": [
    "#### Second infection step (sampling available RBCs)"
   ]
  },
  {
   "cell_type": "code",
   "execution_count": null,
   "metadata": {
    "collapsed": true
   },
   "outputs": [],
   "source": [
    "infect.step2<-function(unite, df1, df2, change, PR, PD){\n",
    "  df<-bind_rows(df1,df2)\n",
    "  if (unite == \"yes\"){\n",
    "    for (i in 1:8){\n",
    "      temp.df<-as.data.frame(matrix(nrow=df[i,1], ncol=2))\n",
    "      temp.df[,1]<-i\n",
    "      temp.df[,2]<-change[i,2]\n",
    "      if (i == 1) {final.df<-temp.df} else {final.df<-bind_rows(final.df, temp.df)}\n",
    "    }\n",
    "    names(final.df)<-c(\"V1\",\"V2\")\n",
    "    \n",
    "    inf.temp<-sample(final.df$V1, size=(PR+PD), replace = FALSE, prob = final.df$V2)\n",
    "    inf.table<-as.data.frame(table(inf.temp))\n",
    "    names(inf.table)<-c(\"V1\", \"V2\")\n",
    "    inf.table[,1]<-as.integer(inf.table[,1])\n",
    "    \n",
    "    inf.df<-as.data.frame(c(1:dim(df)[1]))\n",
    "    names(inf.df)<-\"V1\"\n",
    "    inf.df[,1]<-as.integer(inf.df[,1])\n",
    "    inf.ab<-full_join(inf.table, inf.df, by=\"V1\")\n",
    "    \n",
    "    inf.ab[is.na(inf.ab)] <- 0\n",
    "    \n",
    "  } else if (unite == \"no\"){\n",
    "    for (i in 1:4){\n",
    "      temp.df<-as.data.frame(matrix(nrow=df[i,1], ncol=2))\n",
    "      temp.df[,1]<-i\n",
    "      temp.df[,2]<-change[i,2]\n",
    "      if (i == 1) {final.df1<-temp.df} else {final.df1<-bind_rows(final.df1, temp.df)}\n",
    "    }\n",
    "    names(final.df1)<-c(\"V1\",\"V2\")\n",
    "    \n",
    "    for (i in 5:8){\n",
    "      temp.df<-as.data.frame(matrix(nrow=df[i,1], ncol=2))\n",
    "      temp.df[,1]<-i\n",
    "      temp.df[,2]<-change[i,2]\n",
    "      if (i == 5) {final.df2<-temp.df} else {final.df2<-bind_rows(final.df2, temp.df)}\n",
    "    }\n",
    "    names(final.df2)<-c(\"V1\",\"V2\") \n",
    "    \n",
    "    inf.df1<-as.data.frame(c(1:dim(df1)[1]))\n",
    "    inf.df2<-as.data.frame(dim(df1)[1]+c(1:dim(df2)[1]))\n",
    "    names(inf.df1)<-\"V1\"\n",
    "    names(inf.df2)<-\"V1\"\n",
    "    inf.df1[,1]<-as.integer(inf.df1[,1])\n",
    "    inf.df2[,1]<-as.integer(inf.df2[,1])\n",
    "    \n",
    "    if (PR > 0){\n",
    "      inf.temp1<-sample(final.df1$V1, size=(PR), replace = FALSE, prob = final.df1$V2)\n",
    "      inf.table1<-as.data.frame(table(inf.temp1))\n",
    "      names(inf.table1)<-c(\"V1\", \"V2\")\n",
    "      inf.table1[,1]<-as.integer(inf.table1[,1])\n",
    "      inf.ab1<-full_join(inf.table1, inf.df1, by=\"V1\")\n",
    "    } else {\n",
    "      inf.table1<-as.data.frame(matrix(nrow=dim(df1)[1], ncol=1))\n",
    "      names(inf.table1)<-\"V1\"\n",
    "      inf.table1[,]<-0\n",
    "      inf.ab1<-bind_cols(inf.df1, inf.table1)\n",
    "    }\n",
    "    if (PD > 0){\n",
    "      inf.temp2<-sample(final.df2$V1, size=(PD), replace = FALSE, prob = final.df2$V2)\n",
    "      inf.table2<-as.data.frame(table(inf.temp2))\n",
    "      names(inf.table2)<-c(\"V1\", \"V2\")\n",
    "      inf.table2[,1]<-as.integer(inf.table2[,1])\n",
    "      inf.ab2<-full_join(inf.table2, inf.df1, by=\"V1\")\n",
    "    } else {\n",
    "      inf.table2<-as.data.frame(matrix(nrow=dim(df2)[1], ncol=1))\n",
    "      names(inf.table2)<-\"V1\"\n",
    "      inf.table2[,]<-0\n",
    "      inf.ab2<-bind_cols(inf.df2, inf.table2)\n",
    "    }\n",
    "    \n",
    "    inf.ab<-bind_rows(inf.ab1, inf.ab2)\n",
    "    \n",
    "    inf.ab[is.na(inf.ab)] <- 0\n",
    "  }\n",
    "  \n",
    "  return(inf.ab)\n",
    "}"
   ]
  },
  {
   "cell_type": "markdown",
   "metadata": {},
   "source": [
    "#### Erythropoesis step"
   ]
  },
  {
   "cell_type": "code",
   "execution_count": null,
   "metadata": {
    "collapsed": true
   },
   "outputs": [],
   "source": [
    "retic.step<-function(res, df1, df2){\n",
    "  \n",
    "  retic.df<-as.data.frame(matrix(nrow=1, ncol=1))\n",
    "  if (res == \"up\"){\n",
    "    retic.df[1,1]<-((R.norm)/(24*60))*(1+(sum(df1, df2)/R.norm)*a)\n",
    "  } else if (res == \"down\"){\n",
    "    retic.df[1,1]<-((R.norm)/(24*60))*(1-(sum(df1, df2)/R.norm)*a)\n",
    "  } else if (res == \"none\"){\n",
    "    retic.df[1,1]<-((0.03*R.norm)/3)\n",
    "  }\n",
    " return(retic.df)   \n",
    "}"
   ]
  },
  {
   "cell_type": "markdown",
   "metadata": {},
   "source": [
    "### Start loop over time-steps"
   ]
  },
  {
   "cell_type": "code",
   "execution_count": null,
   "metadata": {
    "collapsed": true
   },
   "outputs": [],
   "source": [
    "for (t in 1:gen){"
   ]
  },
  {
   "cell_type": "markdown",
   "metadata": {},
   "source": [
    "#### Fill in dataframes for first time-step"
   ]
  },
  {
   "cell_type": "code",
   "execution_count": null,
   "metadata": {
    "collapsed": true
   },
   "outputs": [],
   "source": [
    "if (t == 1){\n",
    "    #Total concentration of recipient RBCs\n",
    "    R.con<-R.0\n",
    "    D.con<-R.0\n",
    "    inf.con<-250000\n",
    "    \n",
    "    #Reticulocytes\n",
    "    RU.df[1:3,1]<-(0.03*R.con)/3\n",
    "    RI.df[1:3,1]<-(inf.con*0.03)/3\n",
    "    RI.df[1:3,2:mat.R]<-0 #no infected RBCs with parasites in older age classes\n",
    "    DU.df[1:3,1]<-(0.03*D.con)/3\n",
    "    DI.df[1:3,1]<-(inf.con*0.03)/3\n",
    "    DI.df[1:3,2:mat.D]<-0\n",
    "    \n",
    "    #Normocytes\n",
    "    RU.df[4,1]<-(0.97*R.con) #fills in concentration for 49+ hour age classes\n",
    "    RI.df[4,1]<-(inf.con*0.97)\n",
    "    RI.df[4,2:mat.R]<-0\n",
    "    DU.df[4,1]<-(0.97*D.con)\n",
    "    DI.df[4,1]<-(inf.con*0.97)\n",
    "    DI.df[4,2:mat.D]<-0\n",
    "}"
   ]
  },
  {
   "cell_type": "markdown",
   "metadata": {},
   "source": [
    "#### RBC burst of infected donor and recipient cells"
   ]
  },
  {
   "cell_type": "code",
   "execution_count": null,
   "metadata": {
    "collapsed": true
   },
   "outputs": [],
   "source": [
    "Burst.tot.D<-sum(DI.df[,mat.D])\n",
    "Burst.tot.R<-sum(RI.df[,mat.R])\n",
    "PD<-Burst.tot.D*P.D #should be zero here\n",
    "PR<-Burst.tot.R*P.R"
   ]
  },
  {
   "cell_type": "markdown",
   "metadata": {},
   "source": [
    "#### Infect uninfected recipient and donor RBCs"
   ]
  },
  {
   "cell_type": "code",
   "execution_count": null,
   "metadata": {
    "collapsed": true
   },
   "outputs": [],
   "source": [
    "inf.change<-as.data.frame(infect.step(\"no\", RU.df, DU.df, B.R, B.D, R.pref, E.pref))\n",
    "  inf.change<-as.data.frame(infect.step2(\"no\", RU.df, DU.df, inf.change, PR, PD))"
   ]
  },
  {
   "cell_type": "markdown",
   "metadata": {},
   "source": [
    "#### Removes newly infected RBCs from the uninfected class"
   ]
  },
  {
   "cell_type": "code",
   "execution_count": null,
   "metadata": {
    "collapsed": true
   },
   "outputs": [],
   "source": [
    "RU.adj<-RU.df\n",
    "if (RU.adj[1,1] < inf.change[1,1]) {RU.adj[1,1]<-0} else {RU.adj[1,1]<-RU.adj[1,1]-inf.change[1,1]}\n",
    "if (RU.adj[2,1] < inf.change[2,1]) {RU.adj[2,1]<-0} else {RU.adj[2,1]<-RU.adj[2,1]-inf.change[2,1]}\n",
    "if (RU.adj[3,1] < inf.change[3,1]) {RU.adj[3,1]<-0} else {RU.adj[3,1]<-RU.adj[3,1]-inf.change[3,1]}\n",
    "if (RU.adj[4,1] < inf.change[4,1]) {RU.adj[4,1]<-0} else {RU.adj[4,1]<-RU.adj[4,1]-inf.change[4,1]}\n",
    "\n",
    "DU.adj<-DU.df\n",
    "if (DU.adj[1,1] < inf.change[5,1]) {DU.adj[1,1]<-0} else {DU.adj[1,1]<-DU.adj[1,1]-inf.change[5,1]}\n",
    "if (DU.adj[2,1] < inf.change[6,1]) {DU.adj[2,1]<-0} else {DU.adj[2,1]<-DU.adj[2,1]-inf.change[6,1]}\n",
    "if (DU.adj[3,1] < inf.change[7,1]) {DU.adj[3,1]<-0} else {DU.adj[3,1]<-DU.adj[3,1]-inf.change[7,1]}\n",
    "if (DU.adj[4,1] < inf.change[8,1]) {DU.adj[4,1]<-0} else {DU.adj[4,1]<-DU.adj[4,1]-inf.change[8,1]}"
   ]
  },
  {
   "cell_type": "markdown",
   "metadata": {},
   "source": [
    "#### Create dataframes with newly infected cells"
   ]
  },
  {
   "cell_type": "code",
   "execution_count": null,
   "metadata": {
    "collapsed": true
   },
   "outputs": [],
   "source": [
    "next.DI<-as.data.frame(matrix(nrow=4,ncol=1))\n",
    "next.DI[1:3,1]<-(inf.change[3,2]/3)\n",
    "next.DI[4,1]<-(inf.change[4,2])\n",
    "\n",
    "next.RI<-as.data.frame(matrix(nrow=4,ncol=1))\n",
    "next.RI[1:3,1]<-(inf.change[1,2]/3)\n",
    "next.RI[4,1]<-(inf.change[2,2])"
   ]
  },
  {
   "cell_type": "code",
   "execution_count": null,
   "metadata": {
    "collapsed": true
   },
   "outputs": [],
   "source": []
  }
 ],
 "metadata": {
  "kernelspec": {
   "display_name": "R",
   "language": "R",
   "name": "ir"
  },
  "language_info": {
   "codemirror_mode": "r",
   "file_extension": ".r",
   "mimetype": "text/x-r-source",
   "name": "R",
   "pygments_lexer": "r",
   "version": "3.4.1"
  }
 },
 "nbformat": 4,
 "nbformat_minor": 2
}
