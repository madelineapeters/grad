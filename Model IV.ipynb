{
 "cells": [
  {
   "cell_type": "markdown",
   "metadata": {},
   "source": [
    "# Model IV"
   ]
  },
  {
   "cell_type": "markdown",
   "metadata": {},
   "source": [
    "## Part (1)"
   ]
  },
  {
   "cell_type": "markdown",
   "metadata": {},
   "source": [
    "### RBC classes\n",
    "1) Uninfected  \n",
    "2) Infected  \n",
    "\n",
    "### Starting RBC counts\n",
    "Uninfected.0 = 9 x 10^9  \n",
    "Infected.0 = 10^5  \n",
    "\n",
    "### Starting age structures\n",
    "Uninfected.R = 0.03  \n",
    "Uninfected.E = 0.97  \n",
    "Infected.R = 0.03  \n",
    "Infected.E = 0.97  \n",
    "\n",
    "### Steps per time-step (t)\n",
    "1) Calculate number of new infections from burst RBC  \n",
    "2) Infect uninfected RBCs based on abundance and parasite age-preference  \n",
    "3) Move newly infected cells from uninfected to infected class  \n",
    "4) Age RBCs, including kill rate of uninfected E and clearance rate of infected R & E  \n",
    "\n",
    "## Required packages"
   ]
  },
  {
   "cell_type": "code",
   "execution_count": null,
   "metadata": {
    "collapsed": true
   },
   "outputs": [],
   "source": [
    "library(dplyr)"
   ]
  },
  {
   "cell_type": "markdown",
   "metadata": {},
   "source": [
    "## Parameters"
   ]
  },
  {
   "cell_type": "code",
   "execution_count": 2,
   "metadata": {
    "collapsed": true
   },
   "outputs": [],
   "source": [
    "gen<-120\n",
    "\n",
    "E.pref<-0.01 #preference for erythrocytes\n",
    "R.pref<-1.5 #preferences for reticulocytes\n",
    "\n",
    "mat<-24 #average number of hours for parasite to mature in RBC\n",
    "\n",
    "p<-5 #parasites produced from a burst donor RBC\n",
    "\n",
    "R.0<-9150000000 #starting concentration of RBCs\n",
    "R.norm<-9150000000 #normal number of RBCs in healthy host\n",
    "\n",
    "E.R.0<-0.97 #total proportion of RBCs in circulation that are erythrocytes\n",
    "R.D.0<-0.03 #total proportion that are reticulocytes\n",
    "\n",
    "gamma<-0 #adjusts susceptibility based on age\n",
    "\n",
    "a<-0.25 #adjustment parameter for erythropoesis in response to anaemia\n",
    "age.sub<-R.norm*0.01/24\n",
    "response<-\"no\"\n",
    "\n",
    "kill.rate<-0.0095\n",
    "clear.rate<-kill.rate"
   ]
  },
  {
   "cell_type": "markdown",
   "metadata": {},
   "source": [
    "## Dataframes"
   ]
  },
  {
   "cell_type": "code",
   "execution_count": 3,
   "metadata": {
    "collapsed": true
   },
   "outputs": [],
   "source": [
    "#Dataframe holding proportion of uninfected recipient RBCs of age x hours (row number)\n",
    "U.df<-as.data.frame(matrix(nrow=4, ncol=1))\n",
    "I.df<-as.data.frame(matrix(nrow=4, ncol=mat))\n",
    "\n",
    "RBC.sum<-as.data.frame(matrix(nrow=gen, ncol=2))\n",
    "names(RBC.sum)<-c(\"U\",\"I\")\n",
    "\n",
    "P.sum<-as.data.frame(matrix(nrow=gen, ncol=1))\n",
    "names(P.sum)<-c(\"New.inf\")\n",
    "\n",
    "U.age<-as.data.frame(matrix(nrow=gen, ncol=4))\n",
    "I.age<-as.data.frame(matrix(nrow=gen, ncol=mat))"
   ]
  },
  {
   "cell_type": "markdown",
   "metadata": {},
   "source": [
    "## Infection step 1"
   ]
  },
  {
   "cell_type": "code",
   "execution_count": 4,
   "metadata": {
    "collapsed": true
   },
   "outputs": [],
   "source": [
    "infect.step<-function(df1, R.pref, E.pref){\n",
    "  \n",
    "    temp<-as.data.frame(matrix(nrow=4, ncol=4))\n",
    "    names(temp)<-c(\"index\", \"count\", \"pref\", \"prob\")\n",
    "    temp[1:4,1]<-1:4\n",
    "    temp[1:4,2]<-df1[1:4,1]\n",
    "    temp[1:3,3]<-R.pref\n",
    "    temp[4,3]<-E.pref\n",
    "\n",
    "    RBC.total<-sum(temp[,2])\n",
    "    temp[,2]<-temp[,2]/RBC.total\n",
    "    pref.total<-sum(temp[,3])\n",
    "    temp[,3]<-temp[,3]/pref.total\n",
    "    temp[,4]<-temp[,2]*temp[,3]\n",
    "    temp[,4]<-temp[,4]/sum(temp[,4])\n",
    "  \n",
    "  prop.inf<-as.data.frame(temp)\n",
    "  \n",
    "  return(prop.inf)\n",
    "  \n",
    "}"
   ]
  },
  {
   "cell_type": "markdown",
   "metadata": {},
   "source": [
    "## Infection step 2"
   ]
  },
  {
   "cell_type": "code",
   "execution_count": 2,
   "metadata": {},
   "outputs": [],
   "source": [
    "infect.step2<-function(df1, change, P){\n",
    "    para.df<-as.data.frame(matrix(nrow=4, ncol=1))\n",
    "    para.df[1:4,]<-P\n",
    "    names(para.df)<-\"P\"\n",
    "    names(df1)<-\"V1\"\n",
    "    df1<-df1 %>% \n",
    "        bind_cols(change, para.df) %>% \n",
    "        mutate(para=P*prob) %>% \n",
    "        mutate(rem=V1-para) %>% \n",
    "        mutate(para.rem=para-V1)\n",
    "    df[df<0]<-0\n",
    "    df<-mutate(df,next.para=para-para.rem)\n",
    "\n",
    "    remainder<-sum(df$para.rem)\n",
    "\n",
    "    df.temp<-filter(df, rem>0)\n",
    "    df.temp$index<-remainder\n",
    "\n",
    "    for (i in 1:dim(df.temp)[1]){\n",
    "        df.temp$prob[i]<-df.temp$rem[i]*df.temp$pref[i]\n",
    "    }\n",
    "    df.temp$prob<-df.temp$prob/sum(df.temp$prob)\n",
    "  \n",
    "    for (i in 1:dim(df.temp)[1]){\n",
    "        df.temp$para[i]<-df.temp$P[i]*df.temp$prob[i]\n",
    "    }\n",
    "    for (i in 1:dim(df.temp)[1]){\n",
    "        df.temp$next.para[i]<-df.temp$next.para[i]+df.temp$para[i]\n",
    "    }\n",
    "\n",
    "  df.temp$rem<-df.temp$rem-df.temp$P\n",
    "  df.temp$para.rem<-df.temp$P-df.temp$rem\n",
    "  df.2<-anti_join(df, df.temp, by=\"index\")\n",
    "  df.final<-union(df.2,df.temp) %>% arrange(index)\n",
    "  df.final[df.final<0]<-0\n",
    "  \n",
    "  return(df.final[,c(2,8,10)])\n",
    "}\n"
   ]
  },
  {
   "cell_type": "markdown",
   "metadata": {},
   "source": [
    "## Erythropoesis step"
   ]
  },
  {
   "cell_type": "code",
   "execution_count": 3,
   "metadata": {
    "collapsed": true
   },
   "outputs": [],
   "source": [
    "retic.step<-function(res, df1, df2){\n",
    "  \n",
    "  retic.df<-as.data.frame(matrix(nrow=1, ncol=1))\n",
    "  if (res == \"yes\"){\n",
    "    retic.df[1,1]<-(R.norm-sum(df1))*a\n",
    "  } else if (res == \"no\"){\n",
    "    retic.df[1,1]<-((0.01*R.norm)/(24))\n",
    "  }\n",
    "  \n",
    "}"
   ]
  },
  {
   "cell_type": "markdown",
   "metadata": {},
   "source": [
    "## Time-step loop"
   ]
  },
  {
   "cell_type": "code",
   "execution_count": null,
   "metadata": {
    "collapsed": true
   },
   "outputs": [],
   "source": [
    "for (t in 1:gen){\n",
    "  \n",
    "  if (t == 1){\n",
    "    #Total concentration of recipient RBCs\n",
    "    R.con<-R.0\n",
    "    inf.con<-1000000\n",
    "    \n",
    "    #Reticulocytes\n",
    "    U.df[1:3,1]<-(0.03*R.con)/3\n",
    "    I.df[1:3,]<-(inf.con*0.01)/mat #assume equal distribution of parasite development stages across RBCs\n",
    "    \n",
    "    #Normocytes\n",
    "    U.df[4,1]<-(0.97*R.con) #fills in concentration for 49+ hour age classes\n",
    "    I.df[4,]<-(inf.con*0.97)/mat\n",
    "\n",
    "  }\n",
    "  \n",
    "      #RBC burst of infected donor cells (for t=1 no infected cells to burst)\n",
    "      Burst.tot<-sum(I.df[,mat])\n",
    "      P<-Burst.tot*p\n",
    "\n",
    "      #Infect uninfected recipient and donor RBCs\n",
    "      inf.change<-as.data.frame(infect.step(U.df, R.pref, E.pref))\n",
    "      inf.change<-as.data.frame(infect.step2(U.df, inf.change, P))\n",
    "\n",
    "      #Removes newly infected RBCs from the uninfected to infected class\n",
    "      U.adj<-as.data.frame(inf.change[,2])\n",
    "\n",
    "      #Create dataframes with newly infected cells\n",
    "      next.I<-as.data.frame(inf.change[,3])\n",
    "\n",
    "      #Shifts columns so that parasites age\n",
    "      I.adj<-bind_cols(next.I, I.df[,1:(mat-1)])\n",
    "\n",
    "        if (t < 25){\n",
    "            adj1<-U.adj[1,1]*(1/24)\n",
    "            adj2<-U.adj[2,1]*(1/24)\n",
    "            adj3<-U.adj[3,1]*(1/24)\n",
    "            adj4<-U.adj[4,1]*(1/24)*(1/60)\n",
    "\n",
    "            next1<-as.data.frame(retic.step(response, U.df, I.df))[1,1]\n",
    "            next2<-adj1\n",
    "            next3<-adj2\n",
    "            next4<-adj3\n",
    "\n",
    "            U.adj[1,1]<-U.adj[1,1]-adj1+next1\n",
    "            U.adj[2,1]<-U.adj[2,1]-adj2+next2\n",
    "            U.adj[3,1]<-U.adj[3,1]-adj3+next3\n",
    "            U.adj[4,1]<-(U.adj[4,1]*(1-kill.rate))-adj4+next4\n",
    "          } else if (t > 24){\n",
    "            adj1<-U.age[t-24,1]*(1/24)\n",
    "            adj2<-U.age[t-24,2]*(1/24)\n",
    "            adj3<-U.age[t-24,3]*(1/24)\n",
    "            adj4<-U.age[t-24,4]*(1/24)*(1/60)\n",
    "\n",
    "            next1<-as.data.frame(retic.step(response, U.df, I.df))[1,1]\n",
    "            next2<-adj1\n",
    "            next3<-adj2\n",
    "            next4<-adj3\n",
    "\n",
    "            U.adj[1,1]<-U.adj[1,1]-adj1+next1\n",
    "            U.adj[2,1]<-U.adj[2,1]-adj2+next2\n",
    "            U.adj[3,1]<-U.adj[3,1]-adj3+next3\n",
    "            U.adj[4,1]<-(U.adj[4,1]*(1-kill.rate))-adj4+next4\n",
    "          }\n",
    "\n",
    "        for (i in 1:mat){  \n",
    "          if (t < 25){\n",
    "            adj1<-I.adj[1,i]*(1/24)\n",
    "            adj2<-I.adj[2,i]*(1/24)\n",
    "            adj3<-I.adj[3,i]*(1/24)\n",
    "            adj4<-I.adj[4,i]*(1/24)*(1/60)\n",
    "\n",
    "            next1<-0\n",
    "            next2<-adj1\n",
    "            next3<-adj2\n",
    "            next4<-adj3\n",
    "\n",
    "            I.adj[1,i]<-(I.adj[1,i]*(1-clear.rate))-adj1+next1\n",
    "            I.adj[2,i]<-(I.adj[2,i]*(1-clear.rate))-adj2+next2\n",
    "            I.adj[3,i]<-(I.adj[3,i]*(1-clear.rate))-adj3+next3\n",
    "            I.adj[4,i]<-(I.adj[4,i]*(1-clear.rate))-adj4+next4\n",
    "          } else if (t > 24){\n",
    "            adj1<-I.age[((t-25)*4+1),i]*(1/24)\n",
    "            adj2<-I.age[((t-25)*4+2),i]*(1/24)\n",
    "            adj3<-I.age[((t-25)*4+3),i]*(1/24)\n",
    "            adj4<-I.age[((t-25)*4+4),i]*(1/24)*(1/60)\n",
    "\n",
    "            next1<-0\n",
    "            next2<-adj1\n",
    "            next3<-adj2\n",
    "            next4<-adj3\n",
    "\n",
    "            I.adj[1,i]<-(I.adj[1,i]*(1-clear.rate))-adj1+next1\n",
    "            I.adj[2,i]<-(I.adj[2,i]*(1-clear.rate))-adj2+next2\n",
    "            I.adj[3,i]<-(I.adj[3,i]*(1-clear.rate))-adj3+next3\n",
    "            I.adj[4,i]<-(I.adj[4,i]*(1-clear.rate))-adj4+next4\n",
    "          }\n",
    "        } #end i loop\n",
    "\n",
    "      if (t == 1){\n",
    "        #columns \"U\",\"I\"\n",
    "        RBC.sum[t,1]<-sum(U.adj)\n",
    "        RBC.sum[t,2]<-sum(I.adj)\n",
    "        \n",
    "        I.age<-I.adj\n",
    "        names(I.age)<-c(1:mat)\n",
    "        U.age<-t(U.adj)\n",
    "        names(U.age)<-c(1:4)\n",
    "      } else {\n",
    "        #Set adjusted dataframes as next-generation dataframes\n",
    "        U.df<-U.adj\n",
    "        temp.U<-t(U.df)\n",
    "        names(temp.U)<-c(1:4)\n",
    "        I.df<-I.adj\n",
    "        names(I.df)<-c(1:mat)\n",
    "\n",
    "        #columns \"U\",\"I\"\n",
    "        RBC.sum[t,1]<-sum(U.adj)\n",
    "        RBC.sum[t,2]<-sum(I.adj)\n",
    "\n",
    "        I.age<-bind_rows(I.age, I.df)\n",
    "        names(I.age)<-c(1:mat)\n",
    "        U.age<-bind_rows(U.age, temp.U)\n",
    "        names(U.age)<-c(1:4)\n",
    "      }\n",
    "        P.sum[t,1]<-P\n",
    "\n",
    "        print(t)\n",
    "\n",
    "\n",
    "} #end loop over t\n"
   ]
  }
 ],
 "metadata": {
  "kernelspec": {
   "display_name": "R",
   "language": "R",
   "name": "ir"
  },
  "language_info": {
   "codemirror_mode": "r",
   "file_extension": ".r",
   "mimetype": "text/x-r-source",
   "name": "R",
   "pygments_lexer": "r",
   "version": "3.4.1"
  }
 },
 "nbformat": 4,
 "nbformat_minor": 2
}
